{
 "cells": [
  {
   "cell_type": "markdown",
   "metadata": {},
   "source": [
    "# Introduction to Cross-Validation - Lab\n",
    "\n",
    "## Introduction\n",
    "\n",
    "In this lab, you'll be able to practice your cross-validation skills!\n",
    "\n",
    "\n",
    "## Objectives\n",
    "\n",
    "You will be able to:\n",
    "\n",
    "- Compare the results with normal holdout validation\n",
    "- Apply 5-fold cross validation for regression"
   ]
  },
  {
   "cell_type": "markdown",
   "metadata": {},
   "source": [
    "## Let's get started\n",
    "\n",
    "This time, let's only include the variables that were previously selected using recursive feature elimination. We included the code to preprocess below."
   ]
  },
  {
   "cell_type": "code",
   "execution_count": 1,
   "metadata": {},
   "outputs": [],
   "source": [
    "import pandas as pd\n",
    "import numpy as np\n",
    "import matplotlib.pyplot as plt\n",
    "%matplotlib inline\n",
    "from sklearn.datasets import load_boston\n",
    "\n",
    "boston = load_boston()\n",
    "\n",
    "boston_features = pd.DataFrame(boston.data, columns = boston.feature_names)\n",
    "b = boston_features[\"B\"]\n",
    "logdis = np.log(boston_features[\"DIS\"])\n",
    "loglstat = np.log(boston_features[\"LSTAT\"])\n",
    "\n",
    "# minmax scaling\n",
    "boston_features[\"B\"] = (b-min(b))/(max(b)-min(b))\n",
    "boston_features[\"DIS\"] = (logdis-min(logdis))/(max(logdis)-min(logdis))\n",
    "\n",
    "#standardization\n",
    "boston_features[\"LSTAT\"] = (loglstat-np.mean(loglstat))/np.sqrt(np.var(loglstat))"
   ]
  },
  {
   "cell_type": "code",
   "execution_count": 16,
   "metadata": {},
   "outputs": [],
   "source": [
    "X = boston_features\n",
    "y = pd.DataFrame(boston.target,columns=['target'])"
   ]
  },
  {
   "cell_type": "markdown",
   "metadata": {},
   "source": [
    "## Train test split\n",
    "\n",
    "Perform a train-test-split with a test set of 0.20."
   ]
  },
  {
   "cell_type": "code",
   "execution_count": 17,
   "metadata": {},
   "outputs": [],
   "source": [
    "from sklearn.model_selection import train_test_split"
   ]
  },
  {
   "cell_type": "code",
   "execution_count": 18,
   "metadata": {},
   "outputs": [],
   "source": [
    "X_train, X_test, y_train, y_test = train_test_split(X,y,test_size=0.2)"
   ]
  },
  {
   "cell_type": "code",
   "execution_count": null,
   "metadata": {},
   "outputs": [],
   "source": []
  },
  {
   "cell_type": "markdown",
   "metadata": {},
   "source": [
    "Fit the model and apply the model to the make test set predictions"
   ]
  },
  {
   "cell_type": "code",
   "execution_count": 19,
   "metadata": {},
   "outputs": [],
   "source": [
    "from sklearn.linear_model import LinearRegression\n",
    "linreg = LinearRegression()\n",
    "\n",
    "linreg.fit(X_train,y_train)\n",
    "\n",
    "y_pred_test = linreg.predict(X_test)\n",
    "y_pred_train = linreg.predict(X_train)"
   ]
  },
  {
   "cell_type": "markdown",
   "metadata": {},
   "source": [
    "Calculate the residuals and the mean squared error"
   ]
  },
  {
   "cell_type": "code",
   "execution_count": 20,
   "metadata": {},
   "outputs": [
    {
     "name": "stdout",
     "output_type": "stream",
     "text": [
      "MSE test: target    10.85627\n",
      "dtype: float64\n",
      "MSE train: target    18.063398\n",
      "dtype: float64\n"
     ]
    }
   ],
   "source": [
    "test_residuals = y_pred_test - y_test\n",
    "train_residuals = y_pred_train - y_train\n",
    "\n",
    "MSE_test = np.mean(test_residuals**2)\n",
    "MSE_train = np.mean(train_residuals**2)\n",
    "\n",
    "print(\"MSE test: \" + str(MSE_test))\n",
    "print(\"MSE train: \" + str(MSE_train))"
   ]
  },
  {
   "cell_type": "markdown",
   "metadata": {},
   "source": [
    "## Cross-Validation: let's build it from scratch!"
   ]
  },
  {
   "cell_type": "markdown",
   "metadata": {},
   "source": [
    "### Create a cross-validation function"
   ]
  },
  {
   "cell_type": "markdown",
   "metadata": {},
   "source": [
    "Write a function k-folds that splits a dataset into k evenly sized pieces.\n",
    "If the full dataset is not divisible by k, make the first few folds one larger then later ones.\n",
    "\n",
    "We want the folds to be a list of subsets of data!"
   ]
  },
  {
   "cell_type": "code",
   "execution_count": 34,
   "metadata": {},
   "outputs": [],
   "source": [
    "def kfolds(data, k):\n",
    "    # Force data as pandas dataframe\n",
    "    df = pd.DataFrame(data)\n",
    "    #list that will be returned\n",
    "    k_folds = []\n",
    "    \n",
    "    #get data size\n",
    "    length_of_df = len(df)\n",
    "    #make a variable that stores the amount of folds that require one extra row\n",
    "    needs_one_larger = length_of_df%k\n",
    "    #make a variable that stores the fold size\n",
    "    size_of_fold = length_of_df//k\n",
    "    \n",
    "    #variables to be used for indexing the dataframe\n",
    "    row_start = 0\n",
    "    row_end = size_of_fold\n",
    "    \n",
    "    for i in range(k):\n",
    "        # add 1 to fold size to account for leftovers \n",
    "        if needs_one_larger > 0:\n",
    "            row_end += 1\n",
    "            needs_one_larger-=1\n",
    "        \n",
    "        #append dataframe section to k_folds list\n",
    "        k_folds.append( df.iloc[row_start:row_end] )\n",
    "        \n",
    "        #set indices for next iteration of loop\n",
    "        row_start = row_end\n",
    "        row_end += size_of_fold\n",
    "    \n",
    "    \n",
    "    return k_folds"
   ]
  },
  {
   "cell_type": "markdown",
   "metadata": {},
   "source": [
    "### Apply it to the Boston Housing Data"
   ]
  },
  {
   "cell_type": "code",
   "execution_count": 44,
   "metadata": {},
   "outputs": [
    {
     "data": {
      "text/plain": [
       "506"
      ]
     },
     "execution_count": 44,
     "metadata": {},
     "output_type": "execute_result"
    }
   ],
   "source": [
    "# Make sure to concatenate the data again\n",
    "data_all = pd.concat([y,X], axis=1)\n",
    "len(data_all)"
   ]
  },
  {
   "cell_type": "code",
   "execution_count": 45,
   "metadata": {},
   "outputs": [],
   "source": [
    "k_folded_data = kfolds(data_all, 5)"
   ]
  },
  {
   "cell_type": "code",
   "execution_count": 46,
   "metadata": {},
   "outputs": [
    {
     "name": "stdout",
     "output_type": "stream",
     "text": [
      "102\n",
      "101\n",
      "101\n",
      "101\n",
      "101\n"
     ]
    }
   ],
   "source": [
    "for i in range(len(k_folded_data)):\n",
    "    print(len(k_folded_data[i]))\n"
   ]
  },
  {
   "cell_type": "markdown",
   "metadata": {},
   "source": [
    "### Perform a linear regression for each fold, and calculate the training and test error"
   ]
  },
  {
   "cell_type": "markdown",
   "metadata": {},
   "source": [
    "Perform linear regression on each and calculate the training and test error."
   ]
  },
  {
   "cell_type": "code",
   "execution_count": 56,
   "metadata": {},
   "outputs": [
    {
     "name": "stdout",
     "output_type": "stream",
     "text": [
      "Fold: 0, Train MSE: 17.92, Test MSE: 13.02\n",
      "Fold: 1, Train MSE: 17.36, Test MSE: 14.63\n",
      "Fold: 2, Train MSE: 15.55, Test MSE: 24.81\n",
      "Fold: 3, Train MSE: 11.04, Test MSE: 55.24\n",
      "Fold: 4, Train MSE: 17.23, Test MSE: 19.02\n"
     ]
    }
   ],
   "source": [
    "test_errs = []\n",
    "train_errs = []\n",
    "k=5\n",
    "\n",
    "k_folded_data = kfolds(data_all, k)\n",
    "\n",
    "for n in range(k):\n",
    "    #get the particular fold from the folded data list\n",
    "    fold = k_folded_data[n]\n",
    "    \n",
    "    # Split in train and test for the fold.\n",
    "    # Training data is all of the data but with the fold rows removed.\n",
    "    train = data_all.drop(fold.index.values)\n",
    "    train_x = train.drop(['target'],axis=1)\n",
    "    train_y = train['target']\n",
    "    test = fold\n",
    "    test_x = test.drop(['target'],axis=1)\n",
    "    test_y = test['target']\n",
    "    \n",
    "    # Fit a linear regression model\n",
    "    linreg.fit(train_x,train_y)\n",
    "    \n",
    "    #Evaluate Train and Test Errors\n",
    "    y_pred_train = linreg.predict(train_x)\n",
    "    y_pred_test = linreg.predict(test_x)\n",
    "    \n",
    "    train_residuals = y_pred_train - train_y\n",
    "    test_residuals = y_pred_test - test_y\n",
    "    \n",
    "    train_MSE =  np.mean(train_residuals**2)\n",
    "    test_MSE = np.mean(test_residuals**2)\n",
    "    \n",
    "    print(\"Fold: {}, Train MSE: {:0.2f}, Test MSE: {:0.2f}\".format(n,train_MSE,test_MSE))\n",
    "\n",
    "# print(train_errs)\n",
    "# print(test_errs)\n"
   ]
  },
  {
   "cell_type": "markdown",
   "metadata": {},
   "source": [
    "## Cross-Validation using Scikit-Learn"
   ]
  },
  {
   "cell_type": "markdown",
   "metadata": {},
   "source": [
    "This was a bit of work! Now, let's perform 5-fold cross-validation to get the mean squared error through scikit-learn. Let's have a look at the five individual MSEs and explain what's going on."
   ]
  },
  {
   "cell_type": "code",
   "execution_count": 62,
   "metadata": {},
   "outputs": [
    {
     "data": {
      "text/plain": [
       "array([13.0161921 , 14.62832183, 24.81432997, 55.24107773, 19.022338  ])"
      ]
     },
     "execution_count": 62,
     "metadata": {},
     "output_type": "execute_result"
    }
   ],
   "source": [
    "from sklearn.metrics import mean_squared_error\n",
    "from sklearn.model_selection import cross_val_score\n",
    "\n",
    "cv_5_results = cross_val_score(linreg,X,y,cv=5,scoring=\"neg_mean_squared_error\")\n",
    "\n",
    "-cv_5_results"
   ]
  },
  {
   "cell_type": "markdown",
   "metadata": {},
   "source": [
    "Next, calculate the mean of the MSE over the 5 cross-validations and compare and contrast with the result from the train-test-split case."
   ]
  },
  {
   "cell_type": "code",
   "execution_count": 64,
   "metadata": {},
   "outputs": [
    {
     "data": {
      "text/plain": [
       "25.344451926139975"
      ]
     },
     "execution_count": 64,
     "metadata": {},
     "output_type": "execute_result"
    }
   ],
   "source": [
    "np.mean(-cv_5_results)"
   ]
  },
  {
   "cell_type": "markdown",
   "metadata": {},
   "source": [
    "##  Summary "
   ]
  },
  {
   "cell_type": "markdown",
   "metadata": {},
   "source": [
    "Congratulations! You now practiced your knowledge on k-fold crossvalidation!"
   ]
  }
 ],
 "metadata": {
  "kernelspec": {
   "display_name": "Python 3",
   "language": "python",
   "name": "python3"
  },
  "language_info": {
   "codemirror_mode": {
    "name": "ipython",
    "version": 3
   },
   "file_extension": ".py",
   "mimetype": "text/x-python",
   "name": "python",
   "nbconvert_exporter": "python",
   "pygments_lexer": "ipython3",
   "version": "3.6.6"
  }
 },
 "nbformat": 4,
 "nbformat_minor": 2
}
